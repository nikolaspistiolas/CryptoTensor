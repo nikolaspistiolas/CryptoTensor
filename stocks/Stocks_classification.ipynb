{
 "cells": [
  {
   "cell_type": "code",
   "execution_count": 1,
   "id": "dbf3a661",
   "metadata": {},
   "outputs": [
    {
     "name": "stdout",
     "output_type": "stream",
     "text": [
      "Init Plugin\n",
      "Init Graph Optimizer\n",
      "Init Kernel\n"
     ]
    },
    {
     "name": "stderr",
     "output_type": "stream",
     "text": [
      "/var/folders/qg/l38qyqxd7nj0gg6p22rjgd600000gn/T/ipykernel_10715/4230669043.py:1: DeprecationWarning: `import kerastuner` is deprecated, please use `import keras_tuner`.\n",
      "  from kerastuner.tuners import RandomSearch\n"
     ]
    }
   ],
   "source": [
    "from kerastuner.tuners import RandomSearch\n",
    "from kerastuner.engine.hyperparameters import HyperParameters\n",
    "import pandas as pd\n",
    "import tensorflow as tf\n",
    "import os\n",
    "import numpy as np\n",
    "from tensorflow import keras\n",
    "from tensorflow.keras import backend as K\n",
    "from tensorflow.keras.models import load_model, Model\n",
    "from tensorflow.keras.layers import Flatten, Dense, Dropout, Activation, Input, Reshape, Conv2D, MaxPooling2D\n",
    "from tensorflow.keras.optimizers import Adam\n",
    "import copy\n",
    "from tensorflow.keras.regularizers import l2\n",
    "from tensorflow.keras import utils\n",
    "import pymongo\n",
    "import ta\n",
    "import numpy as np"
   ]
  },
  {
   "cell_type": "code",
   "execution_count": 42,
   "id": "8c17656b",
   "metadata": {},
   "outputs": [],
   "source": [
    "def get_nn_input(data, days):\n",
    "    test_num = 2*20*8\n",
    "    dont_norm = ['trend_psar_down_indicator','trend_psar_up_indicator','volatility_kchi','volatility_bbli','volatility_bbhi','volatility_kcli']\n",
    "    tmp = copy.deepcopy(data['Close'].to_numpy())\n",
    "    goal = []\n",
    "    for i in range(len(tmp)-2):\n",
    "        goal.append( (tmp[i+1] - tmp[i]) / tmp[i] * 100)\n",
    "    goal.append(0)\n",
    "    goal.append(0)\n",
    "    goal = np.array(goal)\n",
    "    for i in data.columns[:-4]:\n",
    "        if i not in dont_norm:\n",
    "            data[i] = (data[i] - data[i].rolling(days*24).mean())/data[i].rolling(days*24).std()\n",
    "    data = data.fillna(0)\n",
    "    data = data[data.columns[:-4]]\n",
    "    data = data.to_numpy()\n",
    "    goal = goal[10:-10]\n",
    "    data = data[10:-10]\n",
    "    xtest = data[-test_num:]\n",
    "    ytest = goal[-test_num:]\n",
    "    data = data[:-test_num]\n",
    "    goal = goal[:-test_num]\n",
    "    return data, goal, xtest, ytest"
   ]
  },
  {
   "cell_type": "code",
   "execution_count": 43,
   "id": "3ddc7583",
   "metadata": {},
   "outputs": [],
   "source": [
    "def get_indicators(data):\n",
    "    data = ta.add_all_ta_features(\n",
    "            data, open=\"Open\", high=\"High\", low=\"Low\", close=\"Close\", volume=\"Volume\", fillna=True)\n",
    "    return data"
   ]
  },
  {
   "cell_type": "code",
   "execution_count": 104,
   "id": "90cc526e",
   "metadata": {},
   "outputs": [
    {
     "name": "stdout",
     "output_type": "stream",
     "text": [
      "19\n"
     ]
    }
   ],
   "source": [
    "import os \n",
    "files = ['MSFT','AAPL','AMZN','TSLA','GOOGL','GOOG','FB','NVDA','JPM','HD','JNJ','PG','UNH','BAC','V','ADBE','NFLX','PFE','DIS']\n",
    "print(len(files))\n",
    "c = 0\n",
    "X = None\n",
    "y = None\n",
    "Xtest = None\n",
    "ytest = None\n",
    "for file in files[:30]:\n",
    "    c += 1\n",
    "    if c % 100 == 0:\n",
    "        print(c)\n",
    "    path = './data/'\n",
    "    data = pd.read_csv(path+file + '.CSV')\n",
    "    try:\n",
    "        data = data.drop(['Adj Close','Unnamed: 0'],axis=1)\n",
    "    except:\n",
    "        continue\n",
    "    try:\n",
    "        data = get_indicators(data)\n",
    "        \n",
    "    except:\n",
    "        continue\n",
    "    if X is None:\n",
    "        X,y, Xtest, ytest = get_nn_input(data, 30)\n",
    "        X = X[31*24:]\n",
    "        y = y[31*24:]\n",
    "    else:\n",
    "        Xtmp, ytmp, Xtesttmp, ytesttmp = get_nn_input(data, 30)\n",
    "        Xtmp = Xtmp[31*24:]\n",
    "        ytmp = ytmp[31*24:]\n",
    "        X = np.append(X, Xtmp, axis = 0)\n",
    "        y = np.append(y, ytmp)\n",
    "        Xtest = np.append(Xtest, Xtesttmp, axis = 0)\n",
    "        ytest = np.append(ytest, ytesttmp)"
   ]
  },
  {
   "cell_type": "code",
   "execution_count": 105,
   "id": "a7a79510",
   "metadata": {},
   "outputs": [
    {
     "name": "stdout",
     "output_type": "stream",
     "text": [
      "[18685, 19372]\n"
     ]
    }
   ],
   "source": [
    "yclass = []\n",
    "probs = [0,0]\n",
    "for i in y:\n",
    "    if i > 0:\n",
    "        yclass.append([0,1])\n",
    "        probs[1] += 1\n",
    "    else:\n",
    "        yclass.append([1,0])\n",
    "        probs[0] += 1\n",
    "ytestclass = []\n",
    "for i in ytest:\n",
    "    if i > 0:\n",
    "        ytestclass.append([0,1])\n",
    "    else:\n",
    "        ytestclass.append([1,0])\n",
    "yclass = np.array(yclass)\n",
    "ytestclass = np.array(ytestclass)\n",
    "\n",
    "print(probs)"
   ]
  },
  {
   "cell_type": "code",
   "execution_count": 106,
   "id": "c32844c4",
   "metadata": {},
   "outputs": [],
   "source": [
    "from sklearn.model_selection import train_test_split\n",
    "\n",
    "X, Xval, yclass, yclassval = train_test_split(X, yclass, test_size = 0.25, shuffle= True)"
   ]
  },
  {
   "cell_type": "code",
   "execution_count": 114,
   "id": "f50d03f8",
   "metadata": {},
   "outputs": [
    {
     "name": "stdout",
     "output_type": "stream",
     "text": [
      "Model: \"model_21\"\n",
      "_________________________________________________________________\n",
      "Layer (type)                 Output Shape              Param #   \n",
      "=================================================================\n",
      "input_22 (InputLayer)        [(None, 84)]              0         \n",
      "_________________________________________________________________\n",
      "dropout_46 (Dropout)         (None, 84)                0         \n",
      "_________________________________________________________________\n",
      "dense_62 (Dense)             (None, 25)                2125      \n",
      "_________________________________________________________________\n",
      "dropout_47 (Dropout)         (None, 25)                0         \n",
      "_________________________________________________________________\n",
      "dense_63 (Dense)             (None, 100)               2600      \n",
      "_________________________________________________________________\n",
      "dense_64 (Dense)             (None, 2)                 202       \n",
      "=================================================================\n",
      "Total params: 4,927\n",
      "Trainable params: 4,927\n",
      "Non-trainable params: 0\n",
      "_________________________________________________________________\n"
     ]
    }
   ],
   "source": [
    "def simple_class():\n",
    "    input_lmd = Input(shape=(84))\n",
    "    out = Dropout(0.2)(input_lmd)\n",
    "    out = Dense(25, activation='relu')(out)\n",
    "    out = Dropout(0.5)(out)\n",
    "    out = Dense(100, activation='relu')(out)\n",
    "#     out = Dropout(0.4)(out)\\\n",
    "#     out = Dense(100, activation='relu')(out)\n",
    "#     out = Dropout(0.5)(out)\n",
    "    out = Dense(2, activation='softmax')(out)\n",
    "    model = Model(inputs=input_lmd, outputs=out)\n",
    "    model.compile(optimizer='sgd', loss='binary_crossentropy', metrics=['accuracy'])\n",
    "    model.summary()\n",
    "    return model\n",
    "model = simple_class()"
   ]
  },
  {
   "cell_type": "code",
   "execution_count": 115,
   "id": "9128b380",
   "metadata": {},
   "outputs": [],
   "source": [
    "early = tf.keras.callbacks.EarlyStopping(\n",
    "    monitor='val_accuracy', min_delta=0, patience=20, verbose=0,\n",
    "    mode='auto', baseline=None, restore_best_weights=False\n",
    ")"
   ]
  },
  {
   "cell_type": "code",
   "execution_count": 116,
   "id": "206dc238",
   "metadata": {},
   "outputs": [
    {
     "name": "stdout",
     "output_type": "stream",
     "text": [
      "Epoch 1/800\n",
      "  6/446 [..............................] - ETA: 4s - loss: 0.7710 - accuracy: 0.4896  "
     ]
    },
    {
     "name": "stderr",
     "output_type": "stream",
     "text": [
      "2021-11-24 13:06:52.282012: I tensorflow/core/grappler/optimizers/custom_graph_optimizer_registry.cc:112] Plugin optimizer for device_type GPU is enabled.\n"
     ]
    },
    {
     "name": "stdout",
     "output_type": "stream",
     "text": [
      "446/446 [==============================] - ETA: 0s - loss: 0.7167 - accuracy: 0.5039"
     ]
    },
    {
     "name": "stderr",
     "output_type": "stream",
     "text": [
      "2021-11-24 13:06:55.502423: I tensorflow/core/grappler/optimizers/custom_graph_optimizer_registry.cc:112] Plugin optimizer for device_type GPU is enabled.\n"
     ]
    },
    {
     "name": "stdout",
     "output_type": "stream",
     "text": [
      "446/446 [==============================] - 4s 8ms/step - loss: 0.7167 - accuracy: 0.5039 - val_loss: 0.6960 - val_accuracy: 0.4987\n",
      "Epoch 2/800\n",
      "446/446 [==============================] - 3s 8ms/step - loss: 0.7022 - accuracy: 0.5018 - val_loss: 0.6947 - val_accuracy: 0.5005\n",
      "Epoch 3/800\n",
      "446/446 [==============================] - 4s 8ms/step - loss: 0.6999 - accuracy: 0.4990 - val_loss: 0.6944 - val_accuracy: 0.4972\n",
      "Epoch 4/800\n",
      "446/446 [==============================] - 4s 8ms/step - loss: 0.6978 - accuracy: 0.5006 - val_loss: 0.6951 - val_accuracy: 0.4988\n",
      "Epoch 5/800\n",
      "446/446 [==============================] - 4s 8ms/step - loss: 0.6971 - accuracy: 0.5000 - val_loss: 0.6937 - val_accuracy: 0.5042\n",
      "Epoch 6/800\n",
      "446/446 [==============================] - 4s 8ms/step - loss: 0.6961 - accuracy: 0.5017 - val_loss: 0.6939 - val_accuracy: 0.5013\n",
      "Epoch 7/800\n",
      "446/446 [==============================] - 4s 8ms/step - loss: 0.6957 - accuracy: 0.5033 - val_loss: 0.6938 - val_accuracy: 0.5032\n",
      "Epoch 8/800\n",
      "446/446 [==============================] - 4s 8ms/step - loss: 0.6959 - accuracy: 0.5026 - val_loss: 0.6938 - val_accuracy: 0.5052\n",
      "Epoch 9/800\n",
      "446/446 [==============================] - 4s 9ms/step - loss: 0.6960 - accuracy: 0.5053 - val_loss: 0.6933 - val_accuracy: 0.5112\n",
      "Epoch 10/800\n",
      "446/446 [==============================] - 4s 8ms/step - loss: 0.6950 - accuracy: 0.5064 - val_loss: 0.6933 - val_accuracy: 0.5099\n",
      "Epoch 11/800\n",
      "446/446 [==============================] - 4s 8ms/step - loss: 0.6951 - accuracy: 0.5090 - val_loss: 0.6932 - val_accuracy: 0.5107\n",
      "Epoch 12/800\n",
      "446/446 [==============================] - 4s 8ms/step - loss: 0.6954 - accuracy: 0.5060 - val_loss: 0.6933 - val_accuracy: 0.5092\n",
      "Epoch 13/800\n",
      "446/446 [==============================] - 4s 8ms/step - loss: 0.6947 - accuracy: 0.5098 - val_loss: 0.6932 - val_accuracy: 0.5119\n",
      "Epoch 14/800\n",
      "446/446 [==============================] - 4s 9ms/step - loss: 0.6945 - accuracy: 0.5111 - val_loss: 0.6931 - val_accuracy: 0.5090\n",
      "Epoch 15/800\n",
      "446/446 [==============================] - 4s 8ms/step - loss: 0.6947 - accuracy: 0.5062 - val_loss: 0.6933 - val_accuracy: 0.5045\n",
      "Epoch 16/800\n",
      "446/446 [==============================] - 4s 9ms/step - loss: 0.6944 - accuracy: 0.5061 - val_loss: 0.6932 - val_accuracy: 0.5017\n",
      "Epoch 17/800\n",
      "446/446 [==============================] - 4s 9ms/step - loss: 0.6954 - accuracy: 0.5021 - val_loss: 0.6932 - val_accuracy: 0.5074\n",
      "Epoch 18/800\n",
      "446/446 [==============================] - 4s 8ms/step - loss: 0.6941 - accuracy: 0.5071 - val_loss: 0.6928 - val_accuracy: 0.5178\n",
      "Epoch 19/800\n",
      "446/446 [==============================] - 4s 8ms/step - loss: 0.6943 - accuracy: 0.5053 - val_loss: 0.6932 - val_accuracy: 0.5065\n",
      "Epoch 20/800\n",
      "446/446 [==============================] - 4s 8ms/step - loss: 0.6943 - accuracy: 0.5022 - val_loss: 0.6928 - val_accuracy: 0.5146\n",
      "Epoch 21/800\n",
      "446/446 [==============================] - 4s 8ms/step - loss: 0.6943 - accuracy: 0.5102 - val_loss: 0.6930 - val_accuracy: 0.5076\n",
      "Epoch 22/800\n",
      "446/446 [==============================] - 4s 8ms/step - loss: 0.6941 - accuracy: 0.5067 - val_loss: 0.6929 - val_accuracy: 0.5141\n",
      "Epoch 23/800\n",
      "446/446 [==============================] - 4s 8ms/step - loss: 0.6937 - accuracy: 0.5133 - val_loss: 0.6931 - val_accuracy: 0.5059\n",
      "Epoch 24/800\n",
      "446/446 [==============================] - 4s 9ms/step - loss: 0.6939 - accuracy: 0.5061 - val_loss: 0.6930 - val_accuracy: 0.5074\n",
      "Epoch 25/800\n",
      "446/446 [==============================] - 4s 9ms/step - loss: 0.6941 - accuracy: 0.5061 - val_loss: 0.6929 - val_accuracy: 0.5114\n",
      "Epoch 26/800\n",
      "446/446 [==============================] - 4s 9ms/step - loss: 0.6943 - accuracy: 0.5084 - val_loss: 0.6929 - val_accuracy: 0.5147\n",
      "Epoch 27/800\n",
      "446/446 [==============================] - 4s 8ms/step - loss: 0.6939 - accuracy: 0.5110 - val_loss: 0.6928 - val_accuracy: 0.5162\n",
      "Epoch 28/800\n",
      "446/446 [==============================] - 4s 8ms/step - loss: 0.6939 - accuracy: 0.5068 - val_loss: 0.6930 - val_accuracy: 0.5130\n",
      "Epoch 29/800\n",
      "446/446 [==============================] - 4s 8ms/step - loss: 0.6936 - accuracy: 0.5094 - val_loss: 0.6930 - val_accuracy: 0.5090\n",
      "Epoch 30/800\n",
      "446/446 [==============================] - 4s 8ms/step - loss: 0.6942 - accuracy: 0.5068 - val_loss: 0.6928 - val_accuracy: 0.5175\n",
      "Epoch 31/800\n",
      "446/446 [==============================] - 4s 8ms/step - loss: 0.6937 - accuracy: 0.5123 - val_loss: 0.6929 - val_accuracy: 0.5138\n",
      "Epoch 32/800\n",
      "446/446 [==============================] - 4s 8ms/step - loss: 0.6940 - accuracy: 0.5084 - val_loss: 0.6927 - val_accuracy: 0.5172\n",
      "Epoch 33/800\n",
      "446/446 [==============================] - 4s 9ms/step - loss: 0.6937 - accuracy: 0.5077 - val_loss: 0.6929 - val_accuracy: 0.5111\n",
      "Epoch 34/800\n",
      "446/446 [==============================] - 4s 9ms/step - loss: 0.6937 - accuracy: 0.5095 - val_loss: 0.6929 - val_accuracy: 0.5098\n",
      "Epoch 35/800\n",
      "446/446 [==============================] - 4s 9ms/step - loss: 0.6939 - accuracy: 0.5059 - val_loss: 0.6929 - val_accuracy: 0.5148\n",
      "Epoch 36/800\n",
      "446/446 [==============================] - 4s 8ms/step - loss: 0.6935 - accuracy: 0.5070 - val_loss: 0.6928 - val_accuracy: 0.5132\n",
      "Epoch 37/800\n",
      "446/446 [==============================] - 4s 8ms/step - loss: 0.6943 - accuracy: 0.5073 - val_loss: 0.6930 - val_accuracy: 0.5098\n",
      "Epoch 38/800\n",
      "446/446 [==============================] - 4s 9ms/step - loss: 0.6936 - accuracy: 0.5047 - val_loss: 0.6928 - val_accuracy: 0.5121\n"
     ]
    },
    {
     "data": {
      "text/plain": [
       "<tensorflow.python.keras.callbacks.History at 0x16c466220>"
      ]
     },
     "execution_count": 116,
     "metadata": {},
     "output_type": "execute_result"
    }
   ],
   "source": [
    "model.fit(X,yclass,64,800,validation_data=(Xval,yclassval),use_multiprocessing=True,verbose=1,callbacks=[early])"
   ]
  },
  {
   "cell_type": "code",
   "execution_count": 117,
   "id": "3136966e",
   "metadata": {},
   "outputs": [
    {
     "name": "stderr",
     "output_type": "stream",
     "text": [
      "2021-11-24 13:11:54.964972: I tensorflow/core/grappler/optimizers/custom_graph_optimizer_registry.cc:112] Plugin optimizer for device_type GPU is enabled.\n"
     ]
    },
    {
     "name": "stdout",
     "output_type": "stream",
     "text": [
      "6080 6080\n",
      "[[0.4823471  0.5176529 ]\n",
      " [0.49064395 0.5093561 ]\n",
      " [0.48295707 0.517043  ]\n",
      " ...\n",
      " [0.5471311  0.45286888]\n",
      " [0.52592    0.47408006]\n",
      " [0.5280496  0.47195047]]\n"
     ]
    }
   ],
   "source": [
    "preds = model.predict(Xtest)\n",
    "preds = np.array(preds).squeeze()\n",
    "yclasstest = np.array(ytest).squeeze()\n",
    "print(len(preds),len(yclasstest))\n",
    "print(preds)"
   ]
  },
  {
   "cell_type": "code",
   "execution_count": 123,
   "id": "21ba7416",
   "metadata": {},
   "outputs": [
    {
     "data": {
      "text/plain": [
       "(100, 0)"
      ]
     },
     "execution_count": 123,
     "metadata": {},
     "output_type": "execute_result"
    }
   ],
   "source": [
    "def class_trade_env(preds, real, a):\n",
    "    balance = 100\n",
    "    num = 0\n",
    "    for i in range(len(preds)):\n",
    "        if preds[i][1] > 0.7:\n",
    "            balance *= 1 + real[i]/100 \n",
    "            num += 1\n",
    "        if preds[i][0] >  0.7:\n",
    "            balance *= 1 - real[i]/100 \n",
    "            num += 1\n",
    "    return balance, num\n",
    "class_trade_env(preds,yclasstest,0)"
   ]
  },
  {
   "cell_type": "code",
   "execution_count": 37,
   "id": "489e0019",
   "metadata": {},
   "outputs": [
    {
     "name": "stdout",
     "output_type": "stream",
     "text": [
      "0.33702117754901834\n",
      "[5745, 6859, 5777]\n",
      "Epoch 1/2000\n"
     ]
    },
    {
     "name": "stderr",
     "output_type": "stream",
     "text": [
      "2021-11-23 15:17:07.740201: I tensorflow/core/grappler/optimizers/custom_graph_optimizer_registry.cc:112] Plugin optimizer for device_type GPU is enabled.\n",
      "2021-11-23 15:17:08.596888: I tensorflow/core/grappler/optimizers/custom_graph_optimizer_registry.cc:112] Plugin optimizer for device_type GPU is enabled.\n"
     ]
    },
    {
     "name": "stdout",
     "output_type": "stream",
     "text": [
      "108/108 - 1s - loss: 1.1778 - accuracy: 0.3532 - val_loss: 1.0843 - val_accuracy: 0.4175\n",
      "Epoch 2/2000\n",
      "108/108 - 1s - loss: 1.1044 - accuracy: 0.3721 - val_loss: 1.0828 - val_accuracy: 0.4117\n",
      "Epoch 3/2000\n",
      "108/108 - 1s - loss: 1.0952 - accuracy: 0.3784 - val_loss: 1.0811 - val_accuracy: 0.4193\n",
      "Epoch 4/2000\n",
      "108/108 - 1s - loss: 1.0907 - accuracy: 0.3942 - val_loss: 1.0802 - val_accuracy: 0.4197\n",
      "Epoch 5/2000\n",
      "108/108 - 1s - loss: 1.0857 - accuracy: 0.4018 - val_loss: 1.0774 - val_accuracy: 0.4310\n",
      "Epoch 6/2000\n",
      "108/108 - 1s - loss: 1.0845 - accuracy: 0.4064 - val_loss: 1.0767 - val_accuracy: 0.4295\n",
      "Epoch 7/2000\n",
      "108/108 - 1s - loss: 1.0823 - accuracy: 0.4076 - val_loss: 1.0743 - val_accuracy: 0.4299\n",
      "Epoch 8/2000\n",
      "108/108 - 1s - loss: 1.0800 - accuracy: 0.4094 - val_loss: 1.0745 - val_accuracy: 0.4282\n",
      "Epoch 9/2000\n",
      "108/108 - 1s - loss: 1.0806 - accuracy: 0.4065 - val_loss: 1.0756 - val_accuracy: 0.4247\n",
      "Epoch 10/2000\n",
      "108/108 - 1s - loss: 1.0774 - accuracy: 0.4100 - val_loss: 1.0742 - val_accuracy: 0.4286\n",
      "Epoch 11/2000\n",
      "108/108 - 1s - loss: 1.0776 - accuracy: 0.4143 - val_loss: 1.0710 - val_accuracy: 0.4332\n",
      "Epoch 12/2000\n",
      "108/108 - 1s - loss: 1.0777 - accuracy: 0.4102 - val_loss: 1.0739 - val_accuracy: 0.4265\n",
      "Epoch 13/2000\n",
      "108/108 - 1s - loss: 1.0770 - accuracy: 0.4111 - val_loss: 1.0712 - val_accuracy: 0.4271\n",
      "Epoch 14/2000\n",
      "108/108 - 1s - loss: 1.0781 - accuracy: 0.4101 - val_loss: 1.0728 - val_accuracy: 0.4245\n",
      "Epoch 15/2000\n",
      "108/108 - 1s - loss: 1.0744 - accuracy: 0.4184 - val_loss: 1.0700 - val_accuracy: 0.4289\n",
      "Epoch 16/2000\n",
      "108/108 - 1s - loss: 1.0745 - accuracy: 0.4202 - val_loss: 1.0720 - val_accuracy: 0.4273\n",
      "Epoch 17/2000\n",
      "108/108 - 1s - loss: 1.0742 - accuracy: 0.4186 - val_loss: 1.0698 - val_accuracy: 0.4406\n",
      "Epoch 18/2000\n",
      "108/108 - 1s - loss: 1.0750 - accuracy: 0.4147 - val_loss: 1.0704 - val_accuracy: 0.4369\n",
      "Epoch 19/2000\n",
      "108/108 - 1s - loss: 1.0740 - accuracy: 0.4174 - val_loss: 1.0727 - val_accuracy: 0.4256\n",
      "Epoch 20/2000\n",
      "108/108 - 1s - loss: 1.0744 - accuracy: 0.4160 - val_loss: 1.0700 - val_accuracy: 0.4389\n",
      "Epoch 21/2000\n",
      "108/108 - 1s - loss: 1.0728 - accuracy: 0.4176 - val_loss: 1.0694 - val_accuracy: 0.4393\n",
      "Epoch 22/2000\n",
      "108/108 - 1s - loss: 1.0742 - accuracy: 0.4207 - val_loss: 1.0731 - val_accuracy: 0.4249\n",
      "Epoch 23/2000\n",
      "108/108 - 1s - loss: 1.0720 - accuracy: 0.4204 - val_loss: 1.0683 - val_accuracy: 0.4417\n",
      "Epoch 24/2000\n",
      "108/108 - 1s - loss: 1.0710 - accuracy: 0.4230 - val_loss: 1.0673 - val_accuracy: 0.4404\n",
      "Epoch 25/2000\n",
      "108/108 - 1s - loss: 1.0726 - accuracy: 0.4210 - val_loss: 1.0719 - val_accuracy: 0.4291\n",
      "Epoch 26/2000\n",
      "108/108 - 1s - loss: 1.0712 - accuracy: 0.4232 - val_loss: 1.0693 - val_accuracy: 0.4304\n",
      "Epoch 27/2000\n",
      "108/108 - 1s - loss: 1.0712 - accuracy: 0.4236 - val_loss: 1.0685 - val_accuracy: 0.4367\n",
      "Epoch 28/2000\n",
      "108/108 - 1s - loss: 1.0698 - accuracy: 0.4221 - val_loss: 1.0651 - val_accuracy: 0.4389\n",
      "Epoch 29/2000\n",
      "108/108 - 1s - loss: 1.0685 - accuracy: 0.4251 - val_loss: 1.0673 - val_accuracy: 0.4304\n",
      "Epoch 30/2000\n",
      "108/108 - 1s - loss: 1.0684 - accuracy: 0.4210 - val_loss: 1.0658 - val_accuracy: 0.4397\n",
      "Epoch 31/2000\n",
      "108/108 - 1s - loss: 1.0672 - accuracy: 0.4287 - val_loss: 1.0650 - val_accuracy: 0.4439\n",
      "Epoch 32/2000\n",
      "108/108 - 1s - loss: 1.0677 - accuracy: 0.4276 - val_loss: 1.0653 - val_accuracy: 0.4426\n",
      "Epoch 33/2000\n",
      "108/108 - 1s - loss: 1.0677 - accuracy: 0.4226 - val_loss: 1.0651 - val_accuracy: 0.4441\n",
      "Epoch 34/2000\n",
      "108/108 - 1s - loss: 1.0686 - accuracy: 0.4279 - val_loss: 1.0675 - val_accuracy: 0.4397\n",
      "Epoch 35/2000\n",
      "108/108 - 1s - loss: 1.0656 - accuracy: 0.4304 - val_loss: 1.0662 - val_accuracy: 0.4321\n",
      "Epoch 36/2000\n",
      "108/108 - 1s - loss: 1.0643 - accuracy: 0.4289 - val_loss: 1.0650 - val_accuracy: 0.4378\n",
      "Epoch 37/2000\n",
      "108/108 - 1s - loss: 1.0654 - accuracy: 0.4306 - val_loss: 1.0647 - val_accuracy: 0.4373\n",
      "Epoch 38/2000\n",
      "108/108 - 1s - loss: 1.0678 - accuracy: 0.4225 - val_loss: 1.0657 - val_accuracy: 0.4410\n",
      "Epoch 39/2000\n",
      "108/108 - 1s - loss: 1.0656 - accuracy: 0.4292 - val_loss: 1.0670 - val_accuracy: 0.4423\n",
      "Epoch 40/2000\n",
      "108/108 - 1s - loss: 1.0641 - accuracy: 0.4303 - val_loss: 1.0644 - val_accuracy: 0.4393\n",
      "Epoch 41/2000\n",
      "108/108 - 1s - loss: 1.0647 - accuracy: 0.4228 - val_loss: 1.0638 - val_accuracy: 0.4467\n",
      "Epoch 42/2000\n",
      "108/108 - 1s - loss: 1.0632 - accuracy: 0.4309 - val_loss: 1.0663 - val_accuracy: 0.4389\n",
      "Epoch 43/2000\n",
      "108/108 - 1s - loss: 1.0619 - accuracy: 0.4309 - val_loss: 1.0647 - val_accuracy: 0.4391\n",
      "Epoch 44/2000\n",
      "108/108 - 1s - loss: 1.0633 - accuracy: 0.4291 - val_loss: 1.0648 - val_accuracy: 0.4426\n",
      "Epoch 45/2000\n",
      "108/108 - 1s - loss: 1.0633 - accuracy: 0.4297 - val_loss: 1.0665 - val_accuracy: 0.4347\n",
      "Epoch 46/2000\n",
      "108/108 - 1s - loss: 1.0645 - accuracy: 0.4279 - val_loss: 1.0677 - val_accuracy: 0.4349\n",
      "Epoch 47/2000\n",
      "108/108 - 1s - loss: 1.0629 - accuracy: 0.4278 - val_loss: 1.0654 - val_accuracy: 0.4399\n",
      "Epoch 48/2000\n",
      "108/108 - 1s - loss: 1.0611 - accuracy: 0.4305 - val_loss: 1.0645 - val_accuracy: 0.4399\n",
      "Epoch 49/2000\n",
      "108/108 - 1s - loss: 1.0600 - accuracy: 0.4348 - val_loss: 1.0664 - val_accuracy: 0.4345\n",
      "Epoch 50/2000\n",
      "108/108 - 1s - loss: 1.0603 - accuracy: 0.4306 - val_loss: 1.0655 - val_accuracy: 0.4380\n",
      "Epoch 51/2000\n",
      "108/108 - 1s - loss: 1.0590 - accuracy: 0.4366 - val_loss: 1.0650 - val_accuracy: 0.4349\n",
      "Epoch 52/2000\n",
      "108/108 - 1s - loss: 1.0574 - accuracy: 0.4375 - val_loss: 1.0652 - val_accuracy: 0.4304\n",
      "Epoch 53/2000\n",
      "108/108 - 1s - loss: 1.0592 - accuracy: 0.4389 - val_loss: 1.0654 - val_accuracy: 0.4360\n",
      "Epoch 54/2000\n",
      "108/108 - 1s - loss: 1.0596 - accuracy: 0.4351 - val_loss: 1.0657 - val_accuracy: 0.4369\n",
      "Epoch 55/2000\n",
      "108/108 - 1s - loss: 1.0600 - accuracy: 0.4320 - val_loss: 1.0638 - val_accuracy: 0.4397\n",
      "Epoch 56/2000\n",
      "108/108 - 1s - loss: 1.0586 - accuracy: 0.4338 - val_loss: 1.0656 - val_accuracy: 0.4419\n",
      "Epoch 57/2000\n",
      "108/108 - 1s - loss: 1.0560 - accuracy: 0.4399 - val_loss: 1.0640 - val_accuracy: 0.4382\n",
      "Epoch 58/2000\n",
      "108/108 - 1s - loss: 1.0557 - accuracy: 0.4396 - val_loss: 1.0647 - val_accuracy: 0.4315\n",
      "Epoch 59/2000\n",
      "108/108 - 1s - loss: 1.0587 - accuracy: 0.4382 - val_loss: 1.0644 - val_accuracy: 0.4352\n",
      "Epoch 60/2000\n",
      "108/108 - 1s - loss: 1.0570 - accuracy: 0.4398 - val_loss: 1.0652 - val_accuracy: 0.4421\n",
      "Epoch 61/2000\n",
      "108/108 - 1s - loss: 1.0548 - accuracy: 0.4418 - val_loss: 1.0628 - val_accuracy: 0.4349\n",
      "Epoch 62/2000\n",
      "108/108 - 1s - loss: 1.0572 - accuracy: 0.4380 - val_loss: 1.0649 - val_accuracy: 0.4389\n",
      "Epoch 63/2000\n",
      "108/108 - 1s - loss: 1.0560 - accuracy: 0.4331 - val_loss: 1.0628 - val_accuracy: 0.4352\n",
      "Epoch 64/2000\n",
      "108/108 - 1s - loss: 1.0543 - accuracy: 0.4386 - val_loss: 1.0630 - val_accuracy: 0.4352\n",
      "Epoch 65/2000\n",
      "108/108 - 1s - loss: 1.0560 - accuracy: 0.4471 - val_loss: 1.0652 - val_accuracy: 0.4278\n",
      "Epoch 66/2000\n",
      "108/108 - 1s - loss: 1.0536 - accuracy: 0.4390 - val_loss: 1.0650 - val_accuracy: 0.4347\n",
      "Epoch 67/2000\n",
      "108/108 - 1s - loss: 1.0523 - accuracy: 0.4413 - val_loss: 1.0634 - val_accuracy: 0.4356\n",
      "Epoch 68/2000\n",
      "108/108 - 1s - loss: 1.0523 - accuracy: 0.4424 - val_loss: 1.0650 - val_accuracy: 0.4358\n",
      "Epoch 69/2000\n",
      "108/108 - 1s - loss: 1.0531 - accuracy: 0.4427 - val_loss: 1.0642 - val_accuracy: 0.4380\n",
      "Epoch 70/2000\n",
      "108/108 - 1s - loss: 1.0534 - accuracy: 0.4384 - val_loss: 1.0625 - val_accuracy: 0.4404\n",
      "Epoch 71/2000\n",
      "108/108 - 1s - loss: 1.0520 - accuracy: 0.4441 - val_loss: 1.0636 - val_accuracy: 0.4354\n",
      "Epoch 72/2000\n",
      "108/108 - 1s - loss: 1.0508 - accuracy: 0.4461 - val_loss: 1.0638 - val_accuracy: 0.4371\n",
      "Epoch 73/2000\n",
      "108/108 - 1s - loss: 1.0509 - accuracy: 0.4471 - val_loss: 1.0631 - val_accuracy: 0.4360\n",
      "Epoch 74/2000\n",
      "108/108 - 1s - loss: 1.0490 - accuracy: 0.4510 - val_loss: 1.0646 - val_accuracy: 0.4343\n",
      "Epoch 75/2000\n",
      "108/108 - 1s - loss: 1.0508 - accuracy: 0.4472 - val_loss: 1.0646 - val_accuracy: 0.4362\n",
      "Epoch 76/2000\n",
      "108/108 - 1s - loss: 1.0473 - accuracy: 0.4439 - val_loss: 1.0632 - val_accuracy: 0.4413\n",
      "Epoch 77/2000\n",
      "108/108 - 1s - loss: 1.0501 - accuracy: 0.4450 - val_loss: 1.0648 - val_accuracy: 0.4349\n",
      "Epoch 78/2000\n",
      "108/108 - 1s - loss: 1.0508 - accuracy: 0.4452 - val_loss: 1.0632 - val_accuracy: 0.4317\n",
      "Epoch 79/2000\n",
      "108/108 - 1s - loss: 1.0472 - accuracy: 0.4464 - val_loss: 1.0629 - val_accuracy: 0.4386\n",
      "Epoch 80/2000\n",
      "108/108 - 1s - loss: 1.0509 - accuracy: 0.4450 - val_loss: 1.0649 - val_accuracy: 0.4321\n"
     ]
    },
    {
     "name": "stdout",
     "output_type": "stream",
     "text": [
      "Epoch 81/2000\n",
      "108/108 - 1s - loss: 1.0490 - accuracy: 0.4442 - val_loss: 1.0629 - val_accuracy: 0.4386\n",
      "Epoch 82/2000\n",
      "108/108 - 1s - loss: 1.0487 - accuracy: 0.4442 - val_loss: 1.0629 - val_accuracy: 0.4399\n",
      "Epoch 83/2000\n",
      "108/108 - 1s - loss: 1.0473 - accuracy: 0.4461 - val_loss: 1.0625 - val_accuracy: 0.4421\n",
      "Epoch 84/2000\n"
     ]
    },
    {
     "ename": "KeyboardInterrupt",
     "evalue": "",
     "output_type": "error",
     "traceback": [
      "\u001b[0;31m---------------------------------------------------------------------------\u001b[0m",
      "\u001b[0;31mKeyboardInterrupt\u001b[0m                         Traceback (most recent call last)",
      "\u001b[0;32m/var/folders/qg/l38qyqxd7nj0gg6p22rjgd600000gn/T/ipykernel_5826/13918736.py\u001b[0m in \u001b[0;36m<module>\u001b[0;34m\u001b[0m\n\u001b[1;32m     44\u001b[0m     \u001b[0mX\u001b[0m\u001b[0;34m,\u001b[0m \u001b[0mXval\u001b[0m\u001b[0;34m,\u001b[0m \u001b[0myclass\u001b[0m\u001b[0;34m,\u001b[0m \u001b[0myclassval\u001b[0m \u001b[0;34m=\u001b[0m \u001b[0mtrain_test_split\u001b[0m\u001b[0;34m(\u001b[0m\u001b[0mX\u001b[0m\u001b[0;34m,\u001b[0m \u001b[0myclass\u001b[0m\u001b[0;34m,\u001b[0m \u001b[0mtest_size\u001b[0m \u001b[0;34m=\u001b[0m \u001b[0;36m0.25\u001b[0m\u001b[0;34m,\u001b[0m \u001b[0mshuffle\u001b[0m\u001b[0;34m=\u001b[0m \u001b[0;32mTrue\u001b[0m\u001b[0;34m)\u001b[0m\u001b[0;34m\u001b[0m\u001b[0;34m\u001b[0m\u001b[0m\n\u001b[1;32m     45\u001b[0m     \u001b[0mmodel\u001b[0m \u001b[0;34m=\u001b[0m \u001b[0msimple_class\u001b[0m\u001b[0;34m(\u001b[0m\u001b[0;34m)\u001b[0m\u001b[0;34m\u001b[0m\u001b[0;34m\u001b[0m\u001b[0m\n\u001b[0;32m---> 46\u001b[0;31m     \u001b[0mmodel\u001b[0m\u001b[0;34m.\u001b[0m\u001b[0mfit\u001b[0m\u001b[0;34m(\u001b[0m\u001b[0mX\u001b[0m\u001b[0;34m,\u001b[0m\u001b[0myclass\u001b[0m\u001b[0;34m,\u001b[0m\u001b[0;36m128\u001b[0m\u001b[0;34m,\u001b[0m\u001b[0;36m2000\u001b[0m\u001b[0;34m,\u001b[0m\u001b[0mvalidation_data\u001b[0m\u001b[0;34m=\u001b[0m\u001b[0;34m(\u001b[0m\u001b[0mXval\u001b[0m\u001b[0;34m,\u001b[0m\u001b[0myclassval\u001b[0m\u001b[0;34m)\u001b[0m\u001b[0;34m,\u001b[0m\u001b[0muse_multiprocessing\u001b[0m\u001b[0;34m=\u001b[0m\u001b[0;32mTrue\u001b[0m\u001b[0;34m,\u001b[0m\u001b[0mverbose\u001b[0m\u001b[0;34m=\u001b[0m\u001b[0;36m2\u001b[0m\u001b[0;34m,\u001b[0m\u001b[0mcallbacks\u001b[0m\u001b[0;34m=\u001b[0m\u001b[0;34m[\u001b[0m\u001b[0mearly\u001b[0m\u001b[0;34m]\u001b[0m\u001b[0;34m)\u001b[0m\u001b[0;34m\u001b[0m\u001b[0;34m\u001b[0m\u001b[0m\n\u001b[0m\u001b[1;32m     47\u001b[0m     \u001b[0mpreds\u001b[0m \u001b[0;34m=\u001b[0m \u001b[0mmodel\u001b[0m\u001b[0;34m.\u001b[0m\u001b[0mpredict\u001b[0m\u001b[0;34m(\u001b[0m\u001b[0mXtest\u001b[0m\u001b[0;34m)\u001b[0m\u001b[0;34m\u001b[0m\u001b[0;34m\u001b[0m\u001b[0m\n\u001b[1;32m     48\u001b[0m     \u001b[0mpreds\u001b[0m \u001b[0;34m=\u001b[0m \u001b[0mnp\u001b[0m\u001b[0;34m.\u001b[0m\u001b[0marray\u001b[0m\u001b[0;34m(\u001b[0m\u001b[0mpreds\u001b[0m\u001b[0;34m)\u001b[0m\u001b[0;34m.\u001b[0m\u001b[0msqueeze\u001b[0m\u001b[0;34m(\u001b[0m\u001b[0;34m)\u001b[0m\u001b[0;34m\u001b[0m\u001b[0;34m\u001b[0m\u001b[0m\n",
      "\u001b[0;32m~/miniforge3/envs/tf_metal/lib/python3.9/site-packages/tensorflow/python/keras/engine/training.py\u001b[0m in \u001b[0;36mfit\u001b[0;34m(self, x, y, batch_size, epochs, verbose, callbacks, validation_split, validation_data, shuffle, class_weight, sample_weight, initial_epoch, steps_per_epoch, validation_steps, validation_batch_size, validation_freq, max_queue_size, workers, use_multiprocessing)\u001b[0m\n\u001b[1;32m   1181\u001b[0m                 _r=1):\n\u001b[1;32m   1182\u001b[0m               \u001b[0mcallbacks\u001b[0m\u001b[0;34m.\u001b[0m\u001b[0mon_train_batch_begin\u001b[0m\u001b[0;34m(\u001b[0m\u001b[0mstep\u001b[0m\u001b[0;34m)\u001b[0m\u001b[0;34m\u001b[0m\u001b[0;34m\u001b[0m\u001b[0m\n\u001b[0;32m-> 1183\u001b[0;31m               \u001b[0mtmp_logs\u001b[0m \u001b[0;34m=\u001b[0m \u001b[0mself\u001b[0m\u001b[0;34m.\u001b[0m\u001b[0mtrain_function\u001b[0m\u001b[0;34m(\u001b[0m\u001b[0miterator\u001b[0m\u001b[0;34m)\u001b[0m\u001b[0;34m\u001b[0m\u001b[0;34m\u001b[0m\u001b[0m\n\u001b[0m\u001b[1;32m   1184\u001b[0m               \u001b[0;32mif\u001b[0m \u001b[0mdata_handler\u001b[0m\u001b[0;34m.\u001b[0m\u001b[0mshould_sync\u001b[0m\u001b[0;34m:\u001b[0m\u001b[0;34m\u001b[0m\u001b[0;34m\u001b[0m\u001b[0m\n\u001b[1;32m   1185\u001b[0m                 \u001b[0mcontext\u001b[0m\u001b[0;34m.\u001b[0m\u001b[0masync_wait\u001b[0m\u001b[0;34m(\u001b[0m\u001b[0;34m)\u001b[0m\u001b[0;34m\u001b[0m\u001b[0;34m\u001b[0m\u001b[0m\n",
      "\u001b[0;32m~/miniforge3/envs/tf_metal/lib/python3.9/site-packages/tensorflow/python/eager/def_function.py\u001b[0m in \u001b[0;36m__call__\u001b[0;34m(self, *args, **kwds)\u001b[0m\n\u001b[1;32m    887\u001b[0m \u001b[0;34m\u001b[0m\u001b[0m\n\u001b[1;32m    888\u001b[0m       \u001b[0;32mwith\u001b[0m \u001b[0mOptionalXlaContext\u001b[0m\u001b[0;34m(\u001b[0m\u001b[0mself\u001b[0m\u001b[0;34m.\u001b[0m\u001b[0m_jit_compile\u001b[0m\u001b[0;34m)\u001b[0m\u001b[0;34m:\u001b[0m\u001b[0;34m\u001b[0m\u001b[0;34m\u001b[0m\u001b[0m\n\u001b[0;32m--> 889\u001b[0;31m         \u001b[0mresult\u001b[0m \u001b[0;34m=\u001b[0m \u001b[0mself\u001b[0m\u001b[0;34m.\u001b[0m\u001b[0m_call\u001b[0m\u001b[0;34m(\u001b[0m\u001b[0;34m*\u001b[0m\u001b[0margs\u001b[0m\u001b[0;34m,\u001b[0m \u001b[0;34m**\u001b[0m\u001b[0mkwds\u001b[0m\u001b[0;34m)\u001b[0m\u001b[0;34m\u001b[0m\u001b[0;34m\u001b[0m\u001b[0m\n\u001b[0m\u001b[1;32m    890\u001b[0m \u001b[0;34m\u001b[0m\u001b[0m\n\u001b[1;32m    891\u001b[0m       \u001b[0mnew_tracing_count\u001b[0m \u001b[0;34m=\u001b[0m \u001b[0mself\u001b[0m\u001b[0;34m.\u001b[0m\u001b[0mexperimental_get_tracing_count\u001b[0m\u001b[0;34m(\u001b[0m\u001b[0;34m)\u001b[0m\u001b[0;34m\u001b[0m\u001b[0;34m\u001b[0m\u001b[0m\n",
      "\u001b[0;32m~/miniforge3/envs/tf_metal/lib/python3.9/site-packages/tensorflow/python/eager/def_function.py\u001b[0m in \u001b[0;36m_call\u001b[0;34m(self, *args, **kwds)\u001b[0m\n\u001b[1;32m    915\u001b[0m       \u001b[0;31m# In this case we have created variables on the first call, so we run the\u001b[0m\u001b[0;34m\u001b[0m\u001b[0;34m\u001b[0m\u001b[0m\n\u001b[1;32m    916\u001b[0m       \u001b[0;31m# defunned version which is guaranteed to never create variables.\u001b[0m\u001b[0;34m\u001b[0m\u001b[0;34m\u001b[0m\u001b[0m\n\u001b[0;32m--> 917\u001b[0;31m       \u001b[0;32mreturn\u001b[0m \u001b[0mself\u001b[0m\u001b[0;34m.\u001b[0m\u001b[0m_stateless_fn\u001b[0m\u001b[0;34m(\u001b[0m\u001b[0;34m*\u001b[0m\u001b[0margs\u001b[0m\u001b[0;34m,\u001b[0m \u001b[0;34m**\u001b[0m\u001b[0mkwds\u001b[0m\u001b[0;34m)\u001b[0m  \u001b[0;31m# pylint: disable=not-callable\u001b[0m\u001b[0;34m\u001b[0m\u001b[0;34m\u001b[0m\u001b[0m\n\u001b[0m\u001b[1;32m    918\u001b[0m     \u001b[0;32melif\u001b[0m \u001b[0mself\u001b[0m\u001b[0;34m.\u001b[0m\u001b[0m_stateful_fn\u001b[0m \u001b[0;32mis\u001b[0m \u001b[0;32mnot\u001b[0m \u001b[0;32mNone\u001b[0m\u001b[0;34m:\u001b[0m\u001b[0;34m\u001b[0m\u001b[0;34m\u001b[0m\u001b[0m\n\u001b[1;32m    919\u001b[0m       \u001b[0;31m# Release the lock early so that multiple threads can perform the call\u001b[0m\u001b[0;34m\u001b[0m\u001b[0;34m\u001b[0m\u001b[0m\n",
      "\u001b[0;32m~/miniforge3/envs/tf_metal/lib/python3.9/site-packages/tensorflow/python/eager/function.py\u001b[0m in \u001b[0;36m__call__\u001b[0;34m(self, *args, **kwargs)\u001b[0m\n\u001b[1;32m   3021\u001b[0m       (graph_function,\n\u001b[1;32m   3022\u001b[0m        filtered_flat_args) = self._maybe_define_function(args, kwargs)\n\u001b[0;32m-> 3023\u001b[0;31m     return graph_function._call_flat(\n\u001b[0m\u001b[1;32m   3024\u001b[0m         filtered_flat_args, captured_inputs=graph_function.captured_inputs)  # pylint: disable=protected-access\n\u001b[1;32m   3025\u001b[0m \u001b[0;34m\u001b[0m\u001b[0m\n",
      "\u001b[0;32m~/miniforge3/envs/tf_metal/lib/python3.9/site-packages/tensorflow/python/eager/function.py\u001b[0m in \u001b[0;36m_call_flat\u001b[0;34m(self, args, captured_inputs, cancellation_manager)\u001b[0m\n\u001b[1;32m   1958\u001b[0m         and executing_eagerly):\n\u001b[1;32m   1959\u001b[0m       \u001b[0;31m# No tape is watching; skip to running the function.\u001b[0m\u001b[0;34m\u001b[0m\u001b[0;34m\u001b[0m\u001b[0m\n\u001b[0;32m-> 1960\u001b[0;31m       return self._build_call_outputs(self._inference_function.call(\n\u001b[0m\u001b[1;32m   1961\u001b[0m           ctx, args, cancellation_manager=cancellation_manager))\n\u001b[1;32m   1962\u001b[0m     forward_backward = self._select_forward_and_backward_functions(\n",
      "\u001b[0;32m~/miniforge3/envs/tf_metal/lib/python3.9/site-packages/tensorflow/python/eager/function.py\u001b[0m in \u001b[0;36mcall\u001b[0;34m(self, ctx, args, cancellation_manager)\u001b[0m\n\u001b[1;32m    589\u001b[0m       \u001b[0;32mwith\u001b[0m \u001b[0m_InterpolateFunctionError\u001b[0m\u001b[0;34m(\u001b[0m\u001b[0mself\u001b[0m\u001b[0;34m)\u001b[0m\u001b[0;34m:\u001b[0m\u001b[0;34m\u001b[0m\u001b[0;34m\u001b[0m\u001b[0m\n\u001b[1;32m    590\u001b[0m         \u001b[0;32mif\u001b[0m \u001b[0mcancellation_manager\u001b[0m \u001b[0;32mis\u001b[0m \u001b[0;32mNone\u001b[0m\u001b[0;34m:\u001b[0m\u001b[0;34m\u001b[0m\u001b[0;34m\u001b[0m\u001b[0m\n\u001b[0;32m--> 591\u001b[0;31m           outputs = execute.execute(\n\u001b[0m\u001b[1;32m    592\u001b[0m               \u001b[0mstr\u001b[0m\u001b[0;34m(\u001b[0m\u001b[0mself\u001b[0m\u001b[0;34m.\u001b[0m\u001b[0msignature\u001b[0m\u001b[0;34m.\u001b[0m\u001b[0mname\u001b[0m\u001b[0;34m)\u001b[0m\u001b[0;34m,\u001b[0m\u001b[0;34m\u001b[0m\u001b[0;34m\u001b[0m\u001b[0m\n\u001b[1;32m    593\u001b[0m               \u001b[0mnum_outputs\u001b[0m\u001b[0;34m=\u001b[0m\u001b[0mself\u001b[0m\u001b[0;34m.\u001b[0m\u001b[0m_num_outputs\u001b[0m\u001b[0;34m,\u001b[0m\u001b[0;34m\u001b[0m\u001b[0;34m\u001b[0m\u001b[0m\n",
      "\u001b[0;32m~/miniforge3/envs/tf_metal/lib/python3.9/site-packages/tensorflow/python/eager/execute.py\u001b[0m in \u001b[0;36mquick_execute\u001b[0;34m(op_name, num_outputs, inputs, attrs, ctx, name)\u001b[0m\n\u001b[1;32m     57\u001b[0m   \u001b[0;32mtry\u001b[0m\u001b[0;34m:\u001b[0m\u001b[0;34m\u001b[0m\u001b[0;34m\u001b[0m\u001b[0m\n\u001b[1;32m     58\u001b[0m     \u001b[0mctx\u001b[0m\u001b[0;34m.\u001b[0m\u001b[0mensure_initialized\u001b[0m\u001b[0;34m(\u001b[0m\u001b[0;34m)\u001b[0m\u001b[0;34m\u001b[0m\u001b[0;34m\u001b[0m\u001b[0m\n\u001b[0;32m---> 59\u001b[0;31m     tensors = pywrap_tfe.TFE_Py_Execute(ctx._handle, device_name, op_name,\n\u001b[0m\u001b[1;32m     60\u001b[0m                                         inputs, attrs, num_outputs)\n\u001b[1;32m     61\u001b[0m   \u001b[0;32mexcept\u001b[0m \u001b[0mcore\u001b[0m\u001b[0;34m.\u001b[0m\u001b[0m_NotOkStatusException\u001b[0m \u001b[0;32mas\u001b[0m \u001b[0me\u001b[0m\u001b[0;34m:\u001b[0m\u001b[0;34m\u001b[0m\u001b[0;34m\u001b[0m\u001b[0m\n",
      "\u001b[0;31mKeyboardInterrupt\u001b[0m: "
     ]
    }
   ],
   "source": [
    "import warnings\n",
    "warnings.filterwarnings('ignore')\n",
    "rev = {}\n",
    "files = ['dash.csv','zec.csv','bitcoin.csv', 'ethereum.csv','bch.csv','eos.csv','neo.csv','bnb.csv','etc.csv']#,'zec.csv']\n",
    "\n",
    "for file in files:\n",
    "    symbol = file.split('.')[0]\n",
    "    path = './train/'\n",
    "    data = pd.read_csv(path+file,header = None)\n",
    "    data = data.drop([6,7,9,10,11,12],axis=1)\n",
    "    data.columns = ['index','time','open','high','low','close','volume']\n",
    "    data = get_indicators(data)\n",
    "    \n",
    "    X,y, Xtest, ytest = get_nn_input(data, 30)\n",
    "    X = X[90*24:]\n",
    "    y = y[90*24:]\n",
    "    bound = 0.25 * np.std(y)\n",
    "    print(bound)\n",
    "    yclass = []\n",
    "    probs = [0,0,0]\n",
    "    for i in y:\n",
    "        if i > bound:\n",
    "            yclass.append([0,0,1])\n",
    "            probs[2] += 1\n",
    "        elif i < -bound:\n",
    "            yclass.append([1,0,0])\n",
    "            probs[0] += 1\n",
    "        else:\n",
    "            yclass.append([0,1,0])\n",
    "            probs[1] += 1\n",
    "    ytestclass = []\n",
    "    for i in ytest:\n",
    "        if i > bound:\n",
    "            ytestclass.append([0,0,1])\n",
    "        elif i < -bound:\n",
    "            ytestclass.append([1,0,0])\n",
    "        else:\n",
    "            ytestclass.append([0,1,0])\n",
    "    yclass = np.array(yclass)\n",
    "    ytestclass = np.array(ytestclass)\n",
    "    print(probs)\n",
    "    from sklearn.model_selection import train_test_split\n",
    "\n",
    "    X, Xval, yclass, yclassval = train_test_split(X, yclass, test_size = 0.25, shuffle= True)\n",
    "    model = simple_class()\n",
    "    model.fit(X,yclass,128,2000,validation_data=(Xval,yclassval),use_multiprocessing=True,verbose=2,callbacks=[early])\n",
    "    preds = model.predict(Xtest)\n",
    "    preds = np.array(preds).squeeze()\n",
    "    yclasstest = np.array(ytest).squeeze()\n",
    "    print(len(preds),len(yclasstest))\n",
    "    maxi = 100\n",
    "    kret = 0\n",
    "    for k in range(10,20):\n",
    "        k /= 10\n",
    "        tmp =  class_trade_env(preds,yclasstest,k)\n",
    "        if tmp[0] > maxi:\n",
    "            maxi = tmp[0]\n",
    "            kret = k\n",
    "    model.save('./models/'+ symbol + '.h5')\n",
    "    rev[symbol] = {'k':kret, 'ret':maxi, 'bound':bound}\n",
    "    print(rev[symbol],symbol)\n"
   ]
  },
  {
   "cell_type": "code",
   "execution_count": null,
   "id": "e4003302",
   "metadata": {},
   "outputs": [],
   "source": []
  }
 ],
 "metadata": {
  "kernelspec": {
   "display_name": "Python 3.9 (tf_metal)",
   "language": "python",
   "name": "tf_metal"
  },
  "language_info": {
   "codemirror_mode": {
    "name": "ipython",
    "version": 3
   },
   "file_extension": ".py",
   "mimetype": "text/x-python",
   "name": "python",
   "nbconvert_exporter": "python",
   "pygments_lexer": "ipython3",
   "version": "3.9.7"
  }
 },
 "nbformat": 4,
 "nbformat_minor": 5
}
